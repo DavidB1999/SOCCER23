{
 "cells": [
  {
   "cell_type": "code",
   "execution_count": null,
   "id": "3e7bda6f",
   "metadata": {},
   "outputs": [],
   "source": [
    "import pandas as pd\n",
    "import pickle\n",
    "import numpy as np\n",
    "from scipy.stats import chisquare"
   ]
  },
  {
   "cell_type": "code",
   "execution_count": null,
   "id": "56c29441",
   "metadata": {},
   "outputs": [],
   "source": [
    "goals80 = pd.read_csv('Results/goal_Count_80_e100.csv', index_col=0)\n",
    "goals80\n",
    "# goals over\n",
    "# data points over\n",
    "# goals under\n",
    "# data points under\n",
    "# all datapoints"
   ]
  },
  {
   "cell_type": "code",
   "execution_count": null,
   "id": "4927cb7d",
   "metadata": {},
   "outputs": [],
   "source": [
    "goals_over = []\n",
    "goals_under = []\n",
    "\n",
    "chi_square =[]\n",
    "p_value = []\n",
    "\n",
    "rel_over = []\n",
    "rel_under = []\n",
    "\n",
    "for dataset in goals80.columns.to_list():\n",
    "    ngoals = round(goals80[dataset][0] + goals80[dataset][2],0)\n",
    "    observed = []\n",
    "    expected = []\n",
    "\n",
    "    observed.append(goals80[dataset][0]) # goals over\n",
    "    goals_over.append(goals80[dataset][0])\n",
    "    observed.append(goals80[dataset][2]) # goals under\n",
    "    goals_under.append(goals80[dataset][2])\n",
    "\n",
    "    expected.append(goals80[dataset][1]/goals80[dataset][4]*ngoals) # expected goals over = # data points over / # all datapoint * # goals\n",
    "    expected.append(goals80[dataset][3]/goals80[dataset][4]*ngoals) # expected goals under\n",
    "\n",
    "\n",
    "    chi, p = chisquare(observed, expected)\n",
    "    chi_square.append(chi)\n",
    "    p_value.append(p)\n",
    "    \n",
    "    rel_over.append(goals80[dataset][0]/goals80[dataset][1])\n",
    "    rel_under.append(goals80[dataset][2]/goals80[dataset][3])\n",
    "\n",
    "chi_square_tests = pd.DataFrame(zip(goals_over, goals_under,chi_square, p_value, rel_over, rel_under),\n",
    "                                columns = ['Goals_over', 'Goals_under', 'chi_square_statisitcs', 'p_values', 'rel_over', 'rel_under'])\n",
    "\n",
    "chi_square_tests.to_csv('Results/ChiSquare_e100.csv')\n",
    "chi_square_tests\n",
    "\n",
    "\n",
    "\n",
    "\n"
   ]
  },
  {
   "cell_type": "code",
   "execution_count": null,
   "id": "5ae60efd",
   "metadata": {},
   "outputs": [],
   "source": [
    "ngoals = round(goals80['16m_100s'][0] + goals80['16m_100s'][2],0)\n",
    "observed = []\n",
    "expected = []\n",
    "\n",
    "observed.append(goals80['16m_100s'][0]) # goals over\n",
    "observed.append(goals80['16m_100s'][2]) # goals under\n",
    "\n",
    "expected.append(goals80['16m_100s'][1]/goals80['16m_100s'][4]*ngoals) # expected goals over = # data points over / # all datapoint * # goals\n",
    "expected.append(goals80['16m_100s'][3]/goals80['16m_100s'][4]*ngoals) # expected goals under\n",
    "\n",
    "\n",
    "chisquare(observed, expected)"
   ]
  },
  {
   "cell_type": "code",
   "execution_count": null,
   "id": "e865377e",
   "metadata": {},
   "outputs": [],
   "source": [
    "observed"
   ]
  },
  {
   "cell_type": "code",
   "execution_count": null,
   "id": "fcf205f3",
   "metadata": {},
   "outputs": [],
   "source": [
    "expected"
   ]
  },
  {
   "cell_type": "code",
   "execution_count": null,
   "id": "1a1b9367",
   "metadata": {},
   "outputs": [],
   "source": []
  }
 ],
 "metadata": {
  "kernelspec": {
   "display_name": "floodlight_env",
   "language": "python",
   "name": "floodlight_env"
  },
  "language_info": {
   "codemirror_mode": {
    "name": "ipython",
    "version": 3
   },
   "file_extension": ".py",
   "mimetype": "text/x-python",
   "name": "python",
   "nbconvert_exporter": "python",
   "pygments_lexer": "ipython3",
   "version": "3.10.11"
  }
 },
 "nbformat": 4,
 "nbformat_minor": 5
}
