{
 "cells": [
  {
   "cell_type": "code",
   "execution_count": null,
   "id": "3d37c106",
   "metadata": {
    "scrolled": false
   },
   "outputs": [],
   "source": [
    "import os\n",
    "import shutil\n",
    "\n",
    "exclude_matches = []\n",
    "\n",
    "ROOT = os.getcwd()                                # returns current working directory of a process.\n",
    "game_data = (r\"SUCCESS_SCORES\")                   # creates a raw string which treats backslash (\\) as a literal character. \n",
    "           \n",
    "for dirMD in os.listdir(game_data):\n",
    "    locMD = os.path.join(game_data, dirMD)\n",
    "    for dirM in os.listdir(locMD):\n",
    "        locM = os.path.join(locMD, dirM)\n",
    "        if len(os.listdir(locM)) != 12:\n",
    "            print(locM)                          # to check which games will be excluded\n",
    "            exclude_matches.append(dirM)\n",
    "            shutil.rmtree(locM)                   # to delete every games´ folder with less then 12 files     "
   ]
  },
  {
   "cell_type": "code",
   "execution_count": null,
   "id": "08b47f27",
   "metadata": {},
   "outputs": [],
   "source": [
    "import pandas as pd\n",
    "\n",
    "GO = pd.read_excel('GameOverview2.xlsx')\n",
    "GO"
   ]
  },
  {
   "cell_type": "code",
   "execution_count": null,
   "id": "760b88d5",
   "metadata": {},
   "outputs": [],
   "source": [
    "red_card = []\n",
    "for row in range(0, len(GO)):\n",
    "    if GO.Red_card[row]:\n",
    "        # print(GO.MI_Name[row])\n",
    "        red_card.append(GO.MI_Name[row])"
   ]
  },
  {
   "cell_type": "code",
   "execution_count": null,
   "id": "fcfb570b",
   "metadata": {},
   "outputs": [],
   "source": [
    "exclude_matches.sort()\n",
    "# exclude_matches"
   ]
  },
  {
   "cell_type": "code",
   "execution_count": null,
   "id": "521c7085",
   "metadata": {},
   "outputs": [],
   "source": [
    "red_card.sort()\n",
    "#red_card"
   ]
  },
  {
   "cell_type": "code",
   "execution_count": null,
   "id": "3592463e",
   "metadata": {},
   "outputs": [],
   "source": [
    "for match in red_card:\n",
    "    if match not in exclude_matches:\n",
    "        print(match)\n",
    "        \n",
    "# DFL-MAT-00278B - no event data - incorrect should be excluded\n",
    "# DFL-MAT-00278N - red card redacted - correct\n",
    "# DFL-MAT-00278T - red card\n",
    "# DFL-MAT-00279D - red card \n",
    "# DFL-MAT-0027C1\n",
    "# DFL-MAT-0027C4\n",
    "# DFL-MAT-0027CP\n",
    "# DFL-MAT-0027CZ\n",
    "# DFL-MAT-0027DG\n",
    "# DFL-MAT-0027E8\n",
    "# DFL-MAT-0027EA\n",
    "# DFL-MAT-0027ES\n",
    "# DFL-MAT-0027FF\n",
    "# DFL-MAT-0027FJ\n",
    "# DFL-MAT-0027FQ\n",
    "# DFL-MAT-0027FV\n",
    "\n",
    "shutil.rmtree('SUCCESS_SCORES/Matchday2/DFL-MAT-00278B')\n",
    "\n"
   ]
  },
  {
   "cell_type": "code",
   "execution_count": null,
   "id": "22adf3eb",
   "metadata": {},
   "outputs": [],
   "source": [
    "for match in exclude_matches:\n",
    "    if match not in red_card:\n",
    "        print(match)\n",
    "        \n",
    "# these are just the games where we are missing the position data!\n",
    "# So that's all correct!"
   ]
  },
  {
   "cell_type": "code",
   "execution_count": null,
   "id": "437c7db8",
   "metadata": {},
   "outputs": [],
   "source": [
    "import pickle\n",
    "with open('Pickles/Games_Included.pkl', 'rb') as dic:\n",
    "    games_inclued = pickle.load(dic)\n",
    "    \n",
    "print(len(games_inclued))\n",
    "games_inclued"
   ]
  },
  {
   "cell_type": "code",
   "execution_count": null,
   "id": "46f363ef",
   "metadata": {},
   "outputs": [],
   "source": []
  }
 ],
 "metadata": {
  "kernelspec": {
   "display_name": "floodlight_env",
   "language": "python",
   "name": "floodlight_env"
  },
  "language_info": {
   "codemirror_mode": {
    "name": "ipython",
    "version": 3
   },
   "file_extension": ".py",
   "mimetype": "text/x-python",
   "name": "python",
   "nbconvert_exporter": "python",
   "pygments_lexer": "ipython3",
   "version": "3.10.11"
  }
 },
 "nbformat": 4,
 "nbformat_minor": 5
}
