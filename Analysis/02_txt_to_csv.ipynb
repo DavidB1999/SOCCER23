{
 "cells": [
  {
   "cell_type": "markdown",
   "id": "0537d4f5",
   "metadata": {},
   "source": [
    "# Step 1-3 combined\n",
    "**Don't run the code if you have run it before!!!** It will mess up your files as it creates the files from created files!"
   ]
  },
  {
   "cell_type": "code",
   "execution_count": null,
   "id": "30a0a0d7",
   "metadata": {},
   "outputs": [],
   "source": [
    "import fileinput\n",
    "import os\n",
    "import csv\n",
    "import numpy as np\n",
    "\n",
    "ROOT = os.getcwd() # returns current working directory of a process.\n",
    "game_data = (r\"SUCCESS_SCORES\") # creates a raw string which treats backslash (\\) as a literal character. \n",
    "# Probably relevant for directories\n",
    "type(game_data)\n",
    "\n",
    "# MD = match day\n",
    "# M = match\n",
    "datasets_all = []\n",
    "for dirMD in os.listdir(game_data):\n",
    "    locMD = os.path.join(game_data, dirMD)\n",
    "    for dirM in os.listdir(locMD):\n",
    "        locM = os.path.join(locMD, dirM)\n",
    "        for file in os.listdir(locM):\n",
    "            datasets_all.append(file[-8:])               # creating a list of all datasets (area & interval)\n",
    "            with fileinput.FileInput(os.path.join(locM, file), inplace=True, backup='.bak') as f:   \n",
    "                for line in f:\n",
    "                    print(line.replace(\":\", \" \"), end='')\n",
    "for dirMD in os.listdir(game_data):\n",
    "    locMD = os.path.join(game_data, dirMD)\n",
    "    for dirM in os.listdir(locMD):\n",
    "        locM = os.path.join(locMD, dirM)\n",
    "        # os.chdir(locM)\n",
    "        for file in os.listdir(locM):\n",
    "            if file[-4:] == \".bak\":\n",
    "                path = os.path.join(locM, file)\n",
    "                os.remove(path)\n",
    "# Pause program here to check files and delete backup files if all looks good\n",
    "ROOT = os.getcwd()\n",
    "game_data = (r\"SUCCESS_SCORES\")\n",
    "for dirMD in os.listdir(game_data):\n",
    "    locMD = os.path.join(game_data, dirMD)\n",
    "    for dirM in os.listdir(locMD):\n",
    "        locM = os.path.join(locMD, dirM)\n",
    "        # os.chdir(locM)\n",
    "        for file in os.listdir(locM):\n",
    "            with open(os.path.join(locM, file), \"r\") as in_txt:               # open the text file\n",
    "                reader = csv.reader(in_txt, delimiter = ' ')                 # read the text file\n",
    "                with open(os.path.join(locM, file)+\".csv\", \"w\") as new_csv:   # open a newly created csv\n",
    "                    writer = csv.writer(new_csv)                             # write in the csv\n",
    "                    for row in reader:                                       # for every row in the text file\n",
    "                        #print(row)                                          # just for testing\n",
    "                        new_row = []                                         # write a new row\n",
    "                        for i in range(len(row)):       \n",
    "                            try:\n",
    "                                new_row.append(float(row[i]))                # append every element from row in text file to new_row\n",
    "                            except:\n",
    "                                pass\n",
    "                        writer.writerow(new_row)                             # write new_row as row in csv\n",
    "                        #print(new_row)\n",
    "            with open(os.path.join(locM, file)+\".csv\", \"r\") as pre:           # open the cretaed csv file\n",
    "                reader = csv.reader(pre, delimiter=',')                      # read the csv file\n",
    "                with open(os.path.join(locM, file)+\"postprocessed.csv\", \"w\") as post:    # open a newly created csv\n",
    "                    writer = csv.writer(post)                                # write in the new csv\n",
    "                    for row in reader:\n",
    "                        try:\n",
    "                            row[0]=int(float(row[0]))                        # removing decimal places \n",
    "                            row[1]=int(float(row[1]))                        # for minute, second and ball contacts \n",
    "                            row[2]=int(float(row[2]))                        # by replacing the first, second, third and fifth \n",
    "                            row[4]=int(float(row[4]))                        # element in each row by its integer\n",
    "                            writer.writerow(row)                             # write that changed row into the csv\n",
    "                        except:\n",
    "                            pass\n",
    "\n",
    "datasets = list(np.unique(datasets_all))                # a list with unique datasets names\n",
    "# def last4(dataset):                                     # function to sort by the last 4 digits in string (interval)\n",
    "#     return dataset[-4:]\n",
    "# datasets.sort(key=last4)"
   ]
  },
  {
   "cell_type": "code",
   "execution_count": null,
   "id": "4a594a7e",
   "metadata": {},
   "outputs": [],
   "source": [
    "import pickle\n",
    "\n",
    "with open(\"Pickles/Datasets.pkl\", \"wb\") as l:\n",
    "    pickle.dump(datasets, l)\n",
    "\n"
   ]
  },
  {
   "cell_type": "code",
   "execution_count": null,
   "id": "58a6a6a1",
   "metadata": {},
   "outputs": [],
   "source": [
    "datasets"
   ]
  }
 ],
 "metadata": {
  "kernelspec": {
   "display_name": "Python 3 (ipykernel)",
   "language": "python",
   "name": "python3"
  },
  "language_info": {
   "codemirror_mode": {
    "name": "ipython",
    "version": 3
   },
   "file_extension": ".py",
   "mimetype": "text/x-python",
   "name": "python",
   "nbconvert_exporter": "python",
   "pygments_lexer": "ipython3",
   "version": "3.11.1"
  }
 },
 "nbformat": 4,
 "nbformat_minor": 5
}
