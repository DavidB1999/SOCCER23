{
 "cells": [
  {
   "cell_type": "code",
   "execution_count": null,
   "id": "8a5c2e9b",
   "metadata": {},
   "outputs": [],
   "source": [
    "# a list of all goals! \n",
    "# Home and Away and scoring team\n",
    "# time of goals\n",
    "# in or out of box"
   ]
  },
  {
   "cell_type": "code",
   "execution_count": null,
   "id": "d2fd87c0",
   "metadata": {},
   "outputs": [],
   "source": [
    "from floodlight.io import dfl\n",
    "from floodlight.io import opta\n",
    "import numpy as np\n",
    "import pandas as pd\n",
    "import fileinput\n",
    "import os\n",
    "import csv\n",
    "import glob\n",
    "from lxml import etree\n",
    "import pickle\n",
    "\n",
    "event_types = pd.read_excel('OtherFiles/Opta_Event_Types_Cleaned.xlsx', index_col=0)\n",
    "event_types[5:20] # 16 = goals\n",
    "\n",
    "with open('Output/game_names_DFL.pkl', 'rb') as f:\n",
    "    game_names_DFL = pickle.load(f)\n",
    "\n",
    "with open('Output/game_names_Opta.pkl', 'rb') as f:\n",
    "    game_names_Opta = pickle.load(f)\n",
    "    \n",
    "\n",
    "with open('Output/game_MD_Opta.pkl', 'rb') as f:\n",
    "    game_MD_Opta = pickle.load(f)\n",
    "    \n",
    "\n",
    "\n",
    "# 16\tSmall box-centre\n",
    "# 17\tBox-centre\n",
    "# 18\tOut of box-centre\n",
    "# 19\t35+ centre\n",
    "# 60\tSmall box-right\n",
    "# 61\tSmall box-left\n",
    "# 62\tBox-deep right\n",
    "# 63\tBox-right\n",
    "# 64\tBox-left\n",
    "# 65\tBox-deep left\n",
    "# 66\tOut of box-deep right\n",
    "# 67\tOut of box-right\n",
    "# 68\tOut of box-left\n",
    "# 69\tOut of box-deep left\n",
    "# 70\t35+ right\n",
    "# 71\t35+ left\n",
    "\n",
    "# 9\tPenalty\n",
    "# 5\tFree kick taken\n",
    "# 6\tCorner taken\n",
    "# 22\tRegular play\n",
    "# 23\tFast break\n",
    "# 24\tSet piece\n",
    "# 25\tFrom corner\n",
    "# 26\tFree kick\n",
    "# 28\town goal\n",
    "\n"
   ]
  },
  {
   "cell_type": "code",
   "execution_count": null,
   "id": "14fed728",
   "metadata": {},
   "outputs": [],
   "source": [
    "opta_matchname = []\n",
    "Home_Team = []\n",
    "Away_Team = []\n",
    "Scoring_Team = []\n",
    "Minute = []\n",
    "Second = []\n",
    "InBox = []\n",
    "HalfTime = []\n",
    "OpenPlay = []\n",
    "\n",
    "\n",
    "\n",
    "ROOT = os.getcwd() # returns current working directory of a process.\n",
    "\n",
    "ev_data = (r\"EventData\") # creates a raw string which treats backslash (\\) as a literal character. \n",
    "\n",
    "for dir in os.listdir(ev_data):\n",
    "    if dir.startswith('Spieltag'):\n",
    "        md = dir\n",
    "        ST = md.replace('Spieltag ', '')# get the numerical matchday\n",
    "        loc = os.path.join(ev_data, dir) \n",
    "        # print(loc)\n",
    "        for eve_file in os.listdir(loc):\n",
    "            # print(eve_file)\n",
    "            if eve_file.startswith('f'):\n",
    "                opta_mn = eve_file.replace('-eventdetails.xml', '')\n",
    "                tree = etree.parse(str('/'.join([loc, eve_file])))\n",
    "                root = tree.getroot()\n",
    "                matchinfo = root.xpath(\"Game\")[0].attrib\n",
    "\n",
    "                \n",
    "                # get goal location\n",
    "                Events = opta.read_event_data_xml(str('/'.join([loc, eve_file])))[0]      # read the events\n",
    "                halfs = ['HT1', 'HT2']\n",
    "                teams = ['Home', 'Away']\n",
    "                \n",
    "                for h in halfs:\n",
    "                    half = 1\n",
    "                    half = 2 if h == 'HT2' else half\n",
    "                    for t in teams:\n",
    "                        scoring_team = matchinfo['home_team_name']\n",
    "                        scoring_team = matchinfo['away_team_name'] if t == 'Away' else scoring_team  # which teams is the scoring team\n",
    "                        data = Events[h][t].events\n",
    "                        goals = data[data.eID == 16] \n",
    "                        for g in range(len(goals)):   # loop over goals in that half for that team\n",
    "                            opta_matchname.append(opta_mn)\n",
    "                            Home_Team.append(matchinfo['home_team_name'])\n",
    "                            Away_Team.append(matchinfo['away_team_name'])\n",
    "                            Scoring_Team.append(scoring_team)\n",
    "                            HalfTime.append(half)\n",
    "                            Minute.append(goals.minute.iloc[g])\n",
    "                            Second.append(goals.second.iloc[g])\n",
    "                            # check the goal location in qualifier\n",
    "                            if any(x in goals.iloc[g].qualifier for x in ('16: None', '17: None', '60: None', '61: None', '62: None', '63: None', '64: None', '65: None')):\n",
    "                                inbox = True\n",
    "                            elif any(x in goals.iloc[g].qualifier for x in ('18: None', '19: None', '66: None', '67: None', '68: None', '69: None', '70: None', '71: None')):\n",
    "                                inbox = False\n",
    "                            else:\n",
    "                                inbox = 'Undeterminable'\n",
    "                            InBox.append(inbox)\n",
    "                            \n",
    "                            # check if from open play\n",
    "                            if any(x in goals.iloc[g].qualifier for x in ('22: None', '23: None')):\n",
    "                                op = True\n",
    "                            elif any(x in goals.iloc[g].qualifier for x in ('24: None', '25: None')):\n",
    "                                op = 'Indirect'\n",
    "                            elif any(x in goals.iloc[g].qualifier for x in ('9: None', '26: None')):\n",
    "                                op = 'direct'\n",
    "                            else:\n",
    "                                op = 'Undeterminable'\n",
    "                                \n",
    "                            OpenPlay.append(op)\n",
    "                                \n",
    "                                \n",
    "goal_overview = pd.DataFrame(list(zip(opta_matchname, Home_Team, Away_Team, Scoring_Team, HalfTime, Minute, Second, InBox, OpenPlay)),\n",
    "                             columns=['Opta_Name', 'Home', 'Away', 'Scoring_Team', 'Half', 'Minute', 'Second', 'InBox', 'OpenPlay'])\n",
    "\n",
    "\n",
    "goal_overview "
   ]
  },
  {
   "cell_type": "code",
   "execution_count": null,
   "id": "57ea0e65",
   "metadata": {},
   "outputs": [],
   "source": [
    "GO = pd.read_csv('Output/GameOverview3.csv')\n",
    "GO"
   ]
  },
  {
   "cell_type": "code",
   "execution_count": null,
   "id": "78979181",
   "metadata": {},
   "outputs": [],
   "source": [
    "goal_overview['DFL_Name'] = goal_overview.Opta_Name\n",
    "goal_overview['Matchday'] = goal_overview.Opta_Name\n",
    "\n",
    "\n",
    "type(list(game_names_Opta.keys()))\n",
    "goal_overview = goal_overview[goal_overview['Opta_Name'].isin(list(game_names_Opta.keys()))]\n",
    "\n",
    "goal_overview['DFL_Name'] = goal_overview['DFL_Name'].apply(lambda x: game_names_Opta[x])\n",
    "goal_overview['Matchday'] = goal_overview['Matchday'].apply(lambda x: game_MD_Opta[x])\n",
    "\n",
    "goal_overview.to_csv('Output/GoalOverview.csv')\n",
    "\n",
    "goal_overview\n"
   ]
  },
  {
   "cell_type": "code",
   "execution_count": null,
   "id": "76abbf40",
   "metadata": {},
   "outputs": [],
   "source": [
    "goal_overview.InBox.value_counts()"
   ]
  },
  {
   "cell_type": "code",
   "execution_count": null,
   "id": "291ea82e",
   "metadata": {},
   "outputs": [],
   "source": [
    "goal_overview.OpenPlay.value_counts()"
   ]
  },
  {
   "cell_type": "code",
   "execution_count": 3,
   "id": "28535029",
   "metadata": {},
   "outputs": [
    {
     "data": {
      "text/plain": [
       "True     760\n",
       "False    104\n",
       "Name: InBox, dtype: int64"
      ]
     },
     "execution_count": 3,
     "metadata": {},
     "output_type": "execute_result"
    }
   ],
   "source": [
    "import pandas as pd\n",
    "\n",
    "GO = pd.read_csv('Output/GoalOverview.csv')\n",
    "GO.InBox.value_counts()\n"
   ]
  },
  {
   "cell_type": "code",
   "execution_count": 2,
   "id": "9ddad382",
   "metadata": {},
   "outputs": [
    {
     "data": {
      "text/plain": [
       "True        605\n",
       "Indirect    161\n",
       "direct       98\n",
       "Name: OpenPlay, dtype: int64"
      ]
     },
     "execution_count": 2,
     "metadata": {},
     "output_type": "execute_result"
    }
   ],
   "source": [
    "GO.OpenPlay.value_counts()"
   ]
  },
  {
   "cell_type": "code",
   "execution_count": 4,
   "id": "07c0d7ee",
   "metadata": {},
   "outputs": [
    {
     "data": {
      "text/plain": [
       "OpenPlay  InBox\n",
       "Indirect  False      5\n",
       "          True     156\n",
       "True      False     77\n",
       "          True     528\n",
       "direct    False     22\n",
       "          True      76\n",
       "dtype: int64"
      ]
     },
     "execution_count": 4,
     "metadata": {},
     "output_type": "execute_result"
    }
   ],
   "source": [
    "GO.groupby([\"OpenPlay\", \"InBox\"]).size()"
   ]
  },
  {
   "cell_type": "code",
   "execution_count": null,
   "id": "4b005bda",
   "metadata": {},
   "outputs": [],
   "source": []
  }
 ],
 "metadata": {
  "kernelspec": {
   "display_name": "floodlight_env",
   "language": "python",
   "name": "floodlight_env"
  },
  "language_info": {
   "codemirror_mode": {
    "name": "ipython",
    "version": 3
   },
   "file_extension": ".py",
   "mimetype": "text/x-python",
   "name": "python",
   "nbconvert_exporter": "python",
   "pygments_lexer": "ipython3",
   "version": "3.10.11"
  }
 },
 "nbformat": 4,
 "nbformat_minor": 5
}
