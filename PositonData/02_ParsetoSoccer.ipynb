{
 "cells": [
  {
   "cell_type": "code",
   "execution_count": null,
   "id": "c9932d96",
   "metadata": {},
   "outputs": [],
   "source": [
    "from Parse_DFL import write_dfl_xml_to_soccer\n",
    "from floodlight.io import dfl\n",
    "import numpy as np\n",
    "import pandas as pd\n",
    "import itertools as it\n",
    "from findIndex import findIndex\n",
    "import fileinput\n",
    "import os\n",
    "import csv\n",
    "import glob"
   ]
  },
  {
   "cell_type": "code",
   "execution_count": null,
   "id": "b53e9f52",
   "metadata": {
    "scrolled": false
   },
   "outputs": [],
   "source": [
    "game_overview = pd.read_csv('Output/GameOverview2.csv')\n",
    "\n",
    "\n",
    "ROOT = os.getcwd() # returns current working directory of a process.\n",
    "\n",
    "pos_data = (r\"PositionData\") # creates a raw string which treats backslash (\\) as a literal character. \n",
    "\n",
    "# create matchday folders\n",
    "# only necessary once!\n",
    "#for MD in range(1,35):\n",
    "#    matchday = str(MD) \n",
    "#    os.mkdir(''.join(['./SOCCER_FILES/Matchday', matchday])) # create folder for each match and matchday\n",
    "\n",
    "# create match folders!\n",
    "# only necessary once!\n",
    "#for pos_file in os.listdir(pos_data):\n",
    "#    if pos_file.startswith('DFL') and 'DFL-MAT-0027W0' not in pos_file and 'DFL-MAT-0027W1' not in pos_file:\n",
    "#        mn = pos_file[-18:-4] # cut the matchname!\n",
    "#        md = str(game_overview.Matchday[game_overview.MI_Name == mn].iloc[0])\n",
    "#        os.mkdir(''.join(['./SOCCER_FILES/Matchday', md, '/',  mn])) # make folder for each match and matchday\n",
    "\n",
    "\n",
    "\n",
    "for pos_file in os.listdir(pos_data):\n",
    "    if pos_file.startswith('DFL') and 'DFL-MAT-0027W0' not in pos_file and 'DFL-MAT-0027W1' not in pos_file:\n",
    "        mn = pos_file[-18:-4] # cut the matchname!\n",
    "        md = str(game_overview.Matchday[game_overview.MI_Name == mn].iloc[0])\n",
    "        print(md)\n",
    "        position_file = os.path.join(pos_data, pos_file)\n",
    "        # find the matching match info\n",
    "        matching_files = glob.glob(''.join(['Matchinfo/*',mn, '*']))\n",
    "        if len(matching_files) != 1:   # should be only one matchinfo file matching the game \n",
    "            print('Matchinfo Error')\n",
    "        else:\n",
    "            matchinfo = matching_files[0]\n",
    "            # parse data via floodlight parser\n",
    "            xy_objects, possession_objects, ballstatus_objects, teamsheets, pitch = dfl.read_position_data_xml(filepath_positions=position_file,\n",
    "                      filepath_mat_info=matchinfo)\n",
    "            write_dfl_xml_to_soccer(xy_objects, teamsheets, md, game_overview, mn) \n",
    "            # this function includes the saving of the files!\n",
    "\n"
   ]
  },
  {
   "cell_type": "code",
   "execution_count": null,
   "id": "20fbb165",
   "metadata": {},
   "outputs": [],
   "source": [
    "mn"
   ]
  },
  {
   "cell_type": "code",
   "execution_count": null,
   "id": "2afa5c2d",
   "metadata": {},
   "outputs": [],
   "source": [
    "game_overview = pd.read_csv('Output/GameOverview2.csv')\n",
    "\n",
    "\n",
    "ROOT = os.getcwd() # returns current working directory of a process.\n",
    "\n",
    "pos_file = (r\"PositionData/DFL_04_02_positions_raw_DFL-COM-000001_DFL-MAT-00278B.xml\") # creates a raw string which treats backslash (\\) as a literal character. \n",
    "\n",
    "\n",
    "\n",
    "\n",
    "mn = pos_file[-18:-4] # cut the matchname!\n",
    "md = str(game_overview.Matchday[game_overview.MI_Name == mn].iloc[0])\n",
    "print(md)\n",
    "position_file = pos_file\n",
    "# find the matching match info\n",
    "matching_files = glob.glob(''.join(['Matchinfo/*',mn, '*']))\n",
    "if len(matching_files) != 1:   # should be only one matchinfo file matching the game \n",
    "    print('Matchinfo Error')\n",
    "else:\n",
    "    matchinfo = matching_files[0]\n",
    "    # parse data via floodlight parser\n",
    "    xy_objects, possession_objects, ballstatus_objects, teamsheets, pitch = dfl.read_position_data_xml(filepath_positions=position_file,\n",
    "              filepath_mat_info=matchinfo)\n",
    "    write_dfl_xml_to_soccer(xy_objects, teamsheets, md, game_overview, mn) \n",
    "    # this function includes the saving of the files!\n",
    "\n"
   ]
  },
  {
   "cell_type": "code",
   "execution_count": null,
   "id": "55f5c293",
   "metadata": {},
   "outputs": [],
   "source": [
    "game_overview.head()"
   ]
  },
  {
   "cell_type": "code",
   "execution_count": null,
   "id": "a6c916d1",
   "metadata": {},
   "outputs": [],
   "source": []
  }
 ],
 "metadata": {
  "kernelspec": {
   "display_name": "floodlight_env",
   "language": "python",
   "name": "floodlight_env"
  },
  "language_info": {
   "codemirror_mode": {
    "name": "ipython",
    "version": 3
   },
   "file_extension": ".py",
   "mimetype": "text/x-python",
   "name": "python",
   "nbconvert_exporter": "python",
   "pygments_lexer": "ipython3",
   "version": "3.10.11"
  }
 },
 "nbformat": 4,
 "nbformat_minor": 5
}
